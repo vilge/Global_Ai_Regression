{
  "nbformat": 4,
  "nbformat_minor": 0,
  "metadata": {
    "colab": {
      "provenance": [],
      "gpuType": "T4",
      "authorship_tag": "ABX9TyNAcGGfvFfYw+w7jCdMlQa+",
      "include_colab_link": true
    },
    "kernelspec": {
      "name": "python3",
      "display_name": "Python 3"
    },
    "language_info": {
      "name": "python"
    },
    "accelerator": "GPU"
  },
  "cells": [
    {
      "cell_type": "markdown",
      "metadata": {
        "id": "view-in-github",
        "colab_type": "text"
      },
      "source": [
        "<a href=\"https://colab.research.google.com/github/vilge/Global_Ai_Regression/blob/main/Global_Ai_Regression.ipynb\" target=\"_parent\"><img src=\"https://colab.research.google.com/assets/colab-badge.svg\" alt=\"Open In Colab\"/></a>"
      ]
    },
    {
      "cell_type": "markdown",
      "source": [
        "Veri setinin üzerinde çalışılması için Projeye Drive üzerinden erişim verilir."
      ],
      "metadata": {
        "id": "U1_UiIO6lYNG"
      }
    },
    {
      "cell_type": "code",
      "execution_count": null,
      "metadata": {
        "colab": {
          "base_uri": "https://localhost:8080/"
        },
        "id": "Tb8rT0brc-hp",
        "outputId": "8ad48f84-0121-433f-ea31-a91ad2d8dfec"
      },
      "outputs": [
        {
          "output_type": "stream",
          "name": "stdout",
          "text": [
            "Mounted at /content/gdrive\n"
          ]
        }
      ],
      "source": [
        "from google.colab import drive\n",
        "drive.mount(\"/content/gdrive\")"
      ]
    },
    {
      "cell_type": "markdown",
      "source": [
        "Projede kullanılacak kütüphaneler import edilir."
      ],
      "metadata": {
        "id": "4XP1JaPul5s3"
      }
    },
    {
      "cell_type": "code",
      "source": [
        "import numpy as np\n",
        "from matplotlib import pyplot as plt\n",
        "import pandas as pd"
      ],
      "metadata": {
        "id": "8kaXnNYudBqY"
      },
      "execution_count": null,
      "outputs": []
    },
    {
      "cell_type": "markdown",
      "source": [
        "Veri seti okunup train değişkenine atanır."
      ],
      "metadata": {
        "id": "0sL-lYPZmIyy"
      }
    },
    {
      "cell_type": "code",
      "source": [
        "train=pd.read_csv(\"/content/gdrive/MyDrive/Colab Notebooks/datasets/mushrooms.csv\")"
      ],
      "metadata": {
        "id": "ujlxk0aMdeFW"
      },
      "execution_count": null,
      "outputs": []
    },
    {
      "cell_type": "markdown",
      "source": [
        "Null değerler var mı diye bakılır."
      ],
      "metadata": {
        "id": "PQhauzxOmgdK"
      }
    },
    {
      "cell_type": "code",
      "source": [
        "train.isnull().sum()"
      ],
      "metadata": {
        "colab": {
          "base_uri": "https://localhost:8080/"
        },
        "id": "BcGnEVEyeaeL",
        "outputId": "e36a7ba7-9e57-434d-90a8-a84b282f7f55"
      },
      "execution_count": null,
      "outputs": [
        {
          "output_type": "execute_result",
          "data": {
            "text/plain": [
              "class                       0\n",
              "cap-shape                   0\n",
              "cap-surface                 0\n",
              "cap-color                   0\n",
              "bruises                     0\n",
              "odor                        0\n",
              "gill-attachment             0\n",
              "gill-spacing                0\n",
              "gill-size                   0\n",
              "gill-color                  0\n",
              "stalk-shape                 0\n",
              "stalk-root                  0\n",
              "stalk-surface-above-ring    0\n",
              "stalk-surface-below-ring    0\n",
              "stalk-color-above-ring      0\n",
              "stalk-color-below-ring      0\n",
              "veil-type                   0\n",
              "veil-color                  0\n",
              "ring-number                 0\n",
              "ring-type                   0\n",
              "spore-print-color           0\n",
              "population                  0\n",
              "habitat                     0\n",
              "dtype: int64"
            ]
          },
          "metadata": {},
          "execution_count": 8
        }
      ]
    },
    {
      "cell_type": "markdown",
      "source": [
        "edible ve poisonous arasındaki ayrımı görmek için \"class\" değişkeni üzerinde pasta grafiği kullanılır."
      ],
      "metadata": {
        "id": "77zIAXq0moW2"
      }
    },
    {
      "cell_type": "code",
      "source": [
        "sizes = df['class'].value_counts(sort = 1)\n",
        "plt.pie(sizes, shadow=True, autopct='%1.1f%%')"
      ],
      "metadata": {
        "colab": {
          "base_uri": "https://localhost:8080/",
          "height": 510
        },
        "id": "B2Py9hchhb3i",
        "outputId": "dccb49a4-7446-400f-e858-ab581ba18a2a"
      },
      "execution_count": null,
      "outputs": [
        {
          "output_type": "execute_result",
          "data": {
            "text/plain": [
              "([<matplotlib.patches.Wedge at 0x7ab5e705d6f0>,\n",
              "  <matplotlib.patches.Wedge at 0x7ab5e705d600>],\n",
              " [Text(-0.062071904545809166, 1.0982472757380535, ''),\n",
              "  Text(0.062071904545808784, -1.0982472757380535, '')],\n",
              " [Text(-0.03385740247953227, 0.5990439685843927, '51.8%'),\n",
              "  Text(0.03385740247953206, -0.5990439685843928, '48.2%')])"
            ]
          },
          "metadata": {},
          "execution_count": 17
        },
        {
          "output_type": "display_data",
          "data": {
            "text/plain": [
              "<Figure size 640x480 with 1 Axes>"
            ],
            "image/png": "[encoded data removed]"
          },
          "metadata": {}
        }
      ]
    },
    {
      "cell_type": "markdown",
      "source": [
        "Y (bağımlı) ve X (bağımsız)\n",
        "değişkenleri oluşturulur."
      ],
      "metadata": {
        "id": "4JW8Rw5poRo_"
      }
    },
    {
      "cell_type": "code",
      "source": [
        "Y = df[\"class\"].values\n",
        "X = df.drop(labels = [\"class\"], axis=1)  #class değişkeni hariç tüm değişkenler X'e atanır."
      ],
      "metadata": {
        "id": "V4nOn_Yjj8c4"
      },
      "execution_count": null,
      "outputs": []
    },
    {
      "cell_type": "markdown",
      "source": [
        "Veri seti eğitim ve test olarak ikiye parçalanır."
      ],
      "metadata": {
        "id": "eA9OZXqlpP4-"
      }
    },
    {
      "cell_type": "code",
      "source": [
        "from sklearn.model_selection import train_test_split\n",
        "X_train, X_test, y_train, y_test = train_test_split(X, Y, test_size=0.25, random_state=61)"
      ],
      "metadata": {
        "id": "8XiTLz4_kNak"
      },
      "execution_count": null,
      "outputs": []
    },
    {
      "cell_type": "markdown",
      "source": [
        "Veri seti üzerinden kullanılacak lojistik regresyon modeli import edilir."
      ],
      "metadata": {
        "id": "hPK4nHBi8Joc"
      }
    },
    {
      "cell_type": "code",
      "source": [
        "from sklearn.linear_model import LogisticRegression\n",
        "model = LogisticRegression(max_iter=1000)\n",
        "model.fit(X_train, y_train)"
      ],
      "metadata": {
        "colab": {
          "base_uri": "https://localhost:8080/",
          "height": 75
        },
        "id": "XpaeGS2NkUv4",
        "outputId": "1cd5c003-450b-406f-d03c-391ab82e7526"
      },
      "execution_count": null,
      "outputs": [
        {
          "output_type": "execute_result",
          "data": {
            "text/plain": [
              "LogisticRegression(max_iter=1000)"
            ],
            "text/html": [
              "<style>#sk-container-id-2 {color: black;background-color: white;}#sk-container-id-2 pre{padding: 0;}#sk-container-id-2 div.sk-toggleable {background-color: white;}#sk-container-id-2 label.sk-toggleable__label {cursor: pointer;display: block;width: 100%;margin-bottom: 0;padding: 0.3em;box-sizing: border-box;text-align: center;}#sk-container-id-2 label.sk-toggleable__label-arrow:before {content: \"▸\";float: left;margin-right: 0.25em;color: #696969;}#sk-container-id-2 label.sk-toggleable__label-arrow:hover:before {color: black;}#sk-container-id-2 div.sk-estimator:hover label.sk-toggleable__label-arrow:before {color: black;}#sk-container-id-2 div.sk-toggleable__content {max-height: 0;max-width: 0;overflow: hidden;text-align: left;background-color: #f0f8ff;}#sk-container-id-2 div.sk-toggleable__content pre {margin: 0.2em;color: black;border-radius: 0.25em;background-color: #f0f8ff;}#sk-container-id-2 input.sk-toggleable__control:checked~div.sk-toggleable__content {max-height: 200px;max-width: 100%;overflow: auto;}#sk-container-id-2 input.sk-toggleable__control:checked~label.sk-toggleable__label-arrow:before {content: \"▾\";}#sk-container-id-2 div.sk-estimator input.sk-toggleable__control:checked~label.sk-toggleable__label {background-color: #d4ebff;}#sk-container-id-2 div.sk-label input.sk-toggleable__control:checked~label.sk-toggleable__label {background-color: #d4ebff;}#sk-container-id-2 input.sk-hidden--visually {border: 0;clip: rect(1px 1px 1px 1px);clip: rect(1px, 1px, 1px, 1px);height: 1px;margin: -1px;overflow: hidden;padding: 0;position: absolute;width: 1px;}#sk-container-id-2 div.sk-estimator {font-family: monospace;background-color: #f0f8ff;border: 1px dotted black;border-radius: 0.25em;box-sizing: border-box;margin-bottom: 0.5em;}#sk-container-id-2 div.sk-estimator:hover {background-color: #d4ebff;}#sk-container-id-2 div.sk-parallel-item::after {content: \"\";width: 100%;border-bottom: 1px solid gray;flex-grow: 1;}#sk-container-id-2 div.sk-label:hover label.sk-toggleable__label {background-color: #d4ebff;}#sk-container-id-2 div.sk-serial::before {content: \"\";position: absolute;border-left: 1px solid gray;box-sizing: border-box;top: 0;bottom: 0;left: 50%;z-index: 0;}#sk-container-id-2 div.sk-serial {display: flex;flex-direction: column;align-items: center;background-color: white;padding-right: 0.2em;padding-left: 0.2em;position: relative;}#sk-container-id-2 div.sk-item {position: relative;z-index: 1;}#sk-container-id-2 div.sk-parallel {display: flex;align-items: stretch;justify-content: center;background-color: white;position: relative;}#sk-container-id-2 div.sk-item::before, #sk-container-id-2 div.sk-parallel-item::before {content: \"\";position: absolute;border-left: 1px solid gray;box-sizing: border-box;top: 0;bottom: 0;left: 50%;z-index: -1;}#sk-container-id-2 div.sk-parallel-item {display: flex;flex-direction: column;z-index: 1;position: relative;background-color: white;}#sk-container-id-2 div.sk-parallel-item:first-child::after {align-self: flex-end;width: 50%;}#sk-container-id-2 div.sk-parallel-item:last-child::after {align-self: flex-start;width: 50%;}#sk-container-id-2 div.sk-parallel-item:only-child::after {width: 0;}#sk-container-id-2 div.sk-dashed-wrapped {border: 1px dashed gray;margin: 0 0.4em 0.5em 0.4em;box-sizing: border-box;padding-bottom: 0.4em;background-color: white;}#sk-container-id-2 div.sk-label label {font-family: monospace;font-weight: bold;display: inline-block;line-height: 1.2em;}#sk-container-id-2 div.sk-label-container {text-align: center;}#sk-container-id-2 div.sk-container {/* jupyter's `normalize.less` sets `[hidden] { display: none; }` but bootstrap.min.css set `[hidden] { display: none !important; }` so we also need the `!important` here to be able to override the default hidden behavior on the sphinx rendered scikit-learn.org. See: https://github.com/scikit-learn/scikit-learn/issues/21755 */display: inline-block !important;position: relative;}#sk-container-id-2 div.sk-text-repr-fallback {display: none;}</style><div id=\"sk-container-id-2\" class=\"sk-top-container\"><div class=\"sk-text-repr-fallback\"><pre>LogisticRegression(max_iter=1000)</pre><b>In a Jupyter environment, please rerun this cell to show the HTML representation or trust the notebook. <br />On GitHub, the HTML representation is unable to render, please try loading this page with nbviewer.org.</b></div><div class=\"sk-container\" hidden><div class=\"sk-item\"><div class=\"sk-estimator sk-toggleable\"><input class=\"sk-toggleable__control sk-hidden--visually\" id=\"sk-estimator-id-2\" type=\"checkbox\" checked><label for=\"sk-estimator-id-2\" class=\"sk-toggleable__label sk-toggleable__label-arrow\">LogisticRegression</label><div class=\"sk-toggleable__content\"><pre>LogisticRegression(max_iter=1000)</pre></div></div></div></div></div>"
            ]
          },
          "metadata": {},
          "execution_count": 21
        }
      ]
    },
    {
      "cell_type": "markdown",
      "source": [
        "Modele ilişkin skorlar ölçülür."
      ],
      "metadata": {
        "id": "v2IcGzs-8cU5"
      }
    },
    {
      "cell_type": "code",
      "source": [
        "prediction_test = model.predict(X_test)\n",
        "from sklearn import metrics\n",
        "print (\"f1-score(f-measure) = \", metrics.f1_score(y_test,prediction_test))\n",
        "print (\"Precision(Kesinlik)  = \", metrics.precision_score(y_test,prediction_test))\n",
        "print (\"Accuracy(Doğruluk)  = \", metrics.accuracy_score(y_test, prediction_test)) #Tahmin doğruluğu yazdırılır."
      ],
      "metadata": {
        "colab": {
          "base_uri": "https://localhost:8080/"
        },
        "id": "WyW7Jh-akf4t",
        "outputId": "b8b8f8c2-601a-4dde-8f03-bba6cc75fa58"
      },
      "execution_count": null,
      "outputs": [
        {
          "output_type": "stream",
          "name": "stdout",
          "text": [
            "f1-score(f-measure) =  0.9490644490644491\n",
            "Precision(Kesinlik)  =  0.9520333680917622\n",
            "Accuracy(Doğruluk)  =  0.9517479074347612\n"
          ]
        }
      ]
    },
    {
      "cell_type": "markdown",
      "source": [
        "Her değişken için model üzerindeki ağırlıkları ölçülür."
      ],
      "metadata": {
        "id": "ZdZpIbTX80Hl"
      }
    },
    {
      "cell_type": "code",
      "source": [
        "print(model.coef_) #Her bağımsız değişken için katsayıları yazdırılır.\n",
        "weights = pd.Series(model.coef_[0], index=X.columns.values)\n",
        "\n",
        "print(\"Her degisken icin agirliklar asagidaki gibidir...\")\n",
        "print(weights)"
      ],
      "metadata": {
        "colab": {
          "base_uri": "https://localhost:8080/"
        },
        "id": "JqXRwaZnlDC4",
        "outputId": "ae47e680-040b-4433-9aed-e7ee1728f7f7"
      },
      "execution_count": null,
      "outputs": [
        {
          "output_type": "stream",
          "name": "stdout",
          "text": [
            "[[-0.03253899  0.44482511 -0.04724321 -0.91999538 -0.45261558 -1.79306306\n",
            "  -6.10417045  6.97298737 -0.1192509  -0.11690117 -1.73364355 -3.99790712\n",
            "  -0.31820295 -0.11970327 -0.04963222  7.39368429  0.95790708  0.82422914\n",
            "  -0.26238522 -0.34370699  0.10772433]]\n",
            "Her degisken icin agirliklar asagidaki gibidir...\n",
            "cap-shape                  -0.032539\n",
            "cap-surface                 0.444825\n",
            "cap-color                  -0.047243\n",
            "bruises                    -0.919995\n",
            "odor                       -0.452616\n",
            "gill-attachment            -1.793063\n",
            "gill-spacing               -6.104170\n",
            "gill-size                   6.972987\n",
            "gill-color                 -0.119251\n",
            "stalk-shape                -0.116901\n",
            "stalk-root                 -1.733644\n",
            "stalk-surface-above-ring   -3.997907\n",
            "stalk-surface-below-ring   -0.318203\n",
            "stalk-color-above-ring     -0.119703\n",
            "stalk-color-below-ring     -0.049632\n",
            "veil-color                  7.393684\n",
            "ring-number                 0.957907\n",
            "ring-type                   0.824229\n",
            "spore-print-color          -0.262385\n",
            "population                 -0.343707\n",
            "habitat                     0.107724\n",
            "dtype: float64\n"
          ]
        }
      ]
    },
    {
      "cell_type": "code",
      "source": [],
      "metadata": {
        "id": "jNGiEhqylDpY"
      },
      "execution_count": null,
      "outputs": []
    }
  ]
}